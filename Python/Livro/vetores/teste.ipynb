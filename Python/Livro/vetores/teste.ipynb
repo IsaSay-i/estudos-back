{
 "cells": [
  {
   "cell_type": "code",
   "execution_count": 2,
   "id": "de76d8ef",
   "metadata": {},
   "outputs": [
    {
     "name": "stdout",
     "output_type": "stream",
     "text": [
      "\u001b[H\u001b[2J[1, 1, 1, 1, 1]\n"
     ]
    }
   ],
   "source": [
    "import os\n",
    "os.system(\"clear\" if os.name==\"posix\" else \"cls\")\n",
    "\n",
    "lista = [1] * 5\n",
    "# :0, ele cria 5 entradas na lista, todas com \"1\"\n",
    "print(lista)"
   ]
  },
  {
   "cell_type": "code",
   "execution_count": null,
   "id": "3618e669",
   "metadata": {},
   "outputs": [
    {
     "name": "stdout",
     "output_type": "stream",
     "text": [
      "(1, 2, 1, 2, 1, 2, 1, 2, 1, 2, 1, 2)\n",
      "<class 'tuple'>\n",
      "(1, 12)\n",
      "<class 'tuple'>\n"
     ]
    }
   ],
   "source": [
    "lista = (1,2) * 6\n",
    "\n",
    "print(lista)\n",
    "print(type(lista))\n",
    "\n",
    "lista = 1,2 * 6\n",
    "\n",
    "print(lista)\n",
    "print(type(lista)) # Huh.."
   ]
  }
 ],
 "metadata": {
  "kernelspec": {
   "display_name": "Python 3",
   "language": "python",
   "name": "python3"
  },
  "language_info": {
   "codemirror_mode": {
    "name": "ipython",
    "version": 3
   },
   "file_extension": ".py",
   "mimetype": "text/x-python",
   "name": "python",
   "nbconvert_exporter": "python",
   "pygments_lexer": "ipython3",
   "version": "3.10.12"
  }
 },
 "nbformat": 4,
 "nbformat_minor": 5
}
