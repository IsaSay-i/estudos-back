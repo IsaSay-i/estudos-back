{
 "cells": [
  {
   "cell_type": "code",
   "execution_count": null,
   "id": "1778aad1",
   "metadata": {},
   "outputs": [],
   "source": [
    "tupla = 1,\n",
    "not_tupla = { \"num\": {1, 2}\n",
    "         }\n",
    "not_tupla2 = [ {1, 2}, {3, 4} ]\n",
    "um_set = {1, 1, 2, 3, 3}\n",
    "\n",
    "print(type(tupla))\n",
    "print(type(not_tupla))\n",
    "print(type(not_tupla2))\n",
    "print(type(um_set))\n",
    "\n",
    "# Uau sets não imprimem/armazenam dados repetidos :0\n",
    "print(um_set)"
   ]
  },
  {
   "cell_type": "code",
   "execution_count": 4,
   "id": "252fde56",
   "metadata": {},
   "outputs": [
    {
     "name": "stdout",
     "output_type": "stream",
     "text": [
      "{1, 2, 3, 4, 5}\n",
      "[1, 2, 3]\n"
     ]
    }
   ],
   "source": [
    "um_set = {1, 1, 2, 3, 3, 5, 4}\n",
    "# Hm, os sets também organizam o row\n",
    "print(um_set)\n",
    "# print(um_set[0]) -> Não dá para selecionar um item numa casa, \" 'set' object is not subscriptable\"\n",
    "listfy = list(um_set)\n",
    "print(listfy[0:3])"
   ]
  },
  {
   "cell_type": "code",
   "execution_count": 26,
   "id": "940ba3d4",
   "metadata": {},
   "outputs": [
    {
     "name": "stdout",
     "output_type": "stream",
     "text": [
      "[1, 2, 3, 4, 5]\n",
      "['a', 'b', 'c', 'd']\n",
      "m\n"
     ]
    }
   ],
   "source": [
    "lista = [1, 3, 4, 2, 2, 1, 5]\n",
    "lista_letra = [\"a\", \"a\", \"d\", \"b\", \"c\", \"d\", \"c\"]\n",
    "\n",
    "# limpo = list(set(lista))  # desse jeito não funciona com letras muito bem\n",
    "limpo = list(dict.fromkeys(lista))\n",
    "limpo.sort() # desse jeito não arruma em ordem, só tira repetições\n",
    "limpo_letra = list(dict.fromkeys(lista_letra))\n",
    "limpo_letra.sort()\n",
    "\n",
    "print(limpo)\n",
    "print(limpo_letra)\n",
    "\n",
    "tupla = \"Isso\", \"não\", \"é\", \"uma\", \"frase\"\n",
    "# print(tupla[3])\n",
    "for i, palavras in enumerate(tupla):\n",
    "    if i == 3: print(palavras[1])"
   ]
  }
 ],
 "metadata": {
  "kernelspec": {
   "display_name": "base",
   "language": "python",
   "name": "python3"
  },
  "language_info": {
   "codemirror_mode": {
    "name": "ipython",
    "version": 3
   },
   "file_extension": ".py",
   "mimetype": "text/x-python",
   "name": "python",
   "nbconvert_exporter": "python",
   "pygments_lexer": "ipython3",
   "version": "3.12.2"
  }
 },
 "nbformat": 4,
 "nbformat_minor": 5
}
